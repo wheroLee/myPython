{
 "cells": [
  {
   "cell_type": "code",
   "execution_count": null,
   "metadata": {},
   "outputs": [],
   "source": []
  }
 ],
 "metadata": {
  "kernelspec": {
   "display_name": "Python 3.9.12 ('tensorflow260')",
   "language": "python",
   "name": "python3"
  },
  "language_info": {
   "name": "python",
   "version": "3.9.12"
  },
  "orig_nbformat": 4,
  "vscode": {
   "interpreter": {
    "hash": "50e498b4ae38950704b658d6ab28f811719e056b11fa22b868b13adbf255efb7"
   }
  }
 },
 "nbformat": 4,
 "nbformat_minor": 2
}
